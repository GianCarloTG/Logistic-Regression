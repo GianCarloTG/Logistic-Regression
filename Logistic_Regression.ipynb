{
  "nbformat": 4,
  "nbformat_minor": 0,
  "metadata": {
    "colab": {
      "name": "Logistic Regression.ipynb",
      "provenance": []
    },
    "kernelspec": {
      "name": "python3",
      "display_name": "Python 3"
    }
  },
  "cells": [
    {
      "cell_type": "markdown",
      "metadata": {
        "id": "idyBXr9HjkmI",
        "colab_type": "text"
      },
      "source": [
        "In this small project we will use the logistic regression to predict breast cancer using the dataset providad in sklearn"
      ]
    },
    {
      "cell_type": "code",
      "metadata": {
        "id": "f6s_teF2gMII",
        "colab_type": "code",
        "colab": {}
      },
      "source": [
        "# Importing libraries\n",
        "import numpy as np\n",
        "import pandas as pd\n",
        "import matplotlib.pyplot as plt\n",
        "from sklearn import datasets\n",
        "from sklearn.model_selection import train_test_split\n",
        "from sklearn.preprocessing import StandardScaler\n",
        "from sklearn.linear_model import LogisticRegression\n",
        "from sklearn.metrics import confusion_matrix\n",
        "# the next libraries are for metrics of the model\n",
        "from sklearn.metrics import precision_score, accuracy_score, recall_score, f1_score, roc_auc_score"
      ],
      "execution_count": 0,
      "outputs": []
    },
    {
      "cell_type": "code",
      "metadata": {
        "id": "qU-QQOwLjVcA",
        "colab_type": "code",
        "colab": {
          "base_uri": "https://localhost:8080/",
          "height": 34
        },
        "outputId": "f0fae407-461a-4648-9194-06c90d1c5dc2"
      },
      "source": [
        "# Importing the dataset\n",
        "dataset = datasets.load_breast_cancer()\n",
        "dataset.keys()"
      ],
      "execution_count": 2,
      "outputs": [
        {
          "output_type": "execute_result",
          "data": {
            "text/plain": [
              "dict_keys(['data', 'target', 'target_names', 'DESCR', 'feature_names', 'filename'])"
            ]
          },
          "metadata": {
            "tags": []
          },
          "execution_count": 2
        }
      ]
    },
    {
      "cell_type": "code",
      "metadata": {
        "id": "RYER5-hXjeAF",
        "colab_type": "code",
        "colab": {}
      },
      "source": [
        "# A brief explication of the dataset\n",
        "print(dataset.DESCR)"
      ],
      "execution_count": 0,
      "outputs": []
    },
    {
      "cell_type": "code",
      "metadata": {
        "id": "X8tEjoRGkBjT",
        "colab_type": "code",
        "colab": {}
      },
      "source": [
        "# For this case, all the information about the tumour is set on X\n",
        "# y is 1 if the tumor is malignant and 0 if it is benign\n",
        "X = dataset.data\n",
        "y = dataset.target"
      ],
      "execution_count": 0,
      "outputs": []
    },
    {
      "cell_type": "code",
      "metadata": {
        "id": "eW9nhaOVksuR",
        "colab_type": "code",
        "colab": {}
      },
      "source": [
        "# Dividing the data into train and test\n",
        "x_train, x_test, y_train, y_test = train_test_split(X,y, test_size =0.2)"
      ],
      "execution_count": 0,
      "outputs": []
    },
    {
      "cell_type": "code",
      "metadata": {
        "colab_type": "code",
        "id": "n1xVvttYqLcw",
        "colab": {}
      },
      "source": [
        "# The next step is scaling the data in the same magnitude\n",
        "# because some variables are in gr, ml, mm\n",
        "# They are in a differente type of measure\n",
        "# We use fit_transform just in the train_data beacause we want to \n",
        "# normalize that value, if we use it in test too the model will have a \n",
        "# doble vectorization\n",
        "\n",
        "scaler = StandardScaler()\n",
        "x_train = scaler.fit_transform(x_train)\n",
        "x_test = scaler.transform(x_test)"
      ],
      "execution_count": 0,
      "outputs": []
    },
    {
      "cell_type": "code",
      "metadata": {
        "id": "Zv998N41qQ7n",
        "colab_type": "code",
        "colab": {}
      },
      "source": [
        "# Calling the model\n",
        "log = LogisticRegression()"
      ],
      "execution_count": 0,
      "outputs": []
    },
    {
      "cell_type": "code",
      "metadata": {
        "id": "0VbYNEt_qmcM",
        "colab_type": "code",
        "colab": {
          "base_uri": "https://localhost:8080/",
          "height": 102
        },
        "outputId": "5f2be727-287a-4c1c-da21-f34e1d47ffc6"
      },
      "source": [
        "# Training the model\n",
        "log.fit(x_train, y_train)"
      ],
      "execution_count": 18,
      "outputs": [
        {
          "output_type": "execute_result",
          "data": {
            "text/plain": [
              "LogisticRegression(C=1.0, class_weight=None, dual=False, fit_intercept=True,\n",
              "                   intercept_scaling=1, l1_ratio=None, max_iter=100,\n",
              "                   multi_class='auto', n_jobs=None, penalty='l2',\n",
              "                   random_state=None, solver='lbfgs', tol=0.0001, verbose=0,\n",
              "                   warm_start=False)"
            ]
          },
          "metadata": {
            "tags": []
          },
          "execution_count": 18
        }
      ]
    },
    {
      "cell_type": "code",
      "metadata": {
        "id": "wuzF5Gfpq1n2",
        "colab_type": "code",
        "colab": {}
      },
      "source": [
        "# Making predictions with the test data\n",
        "y_pred = log.predict(x_test)"
      ],
      "execution_count": 0,
      "outputs": []
    },
    {
      "cell_type": "code",
      "metadata": {
        "id": "Qxh_db3srCYA",
        "colab_type": "code",
        "colab": {
          "base_uri": "https://localhost:8080/",
          "height": 51
        },
        "outputId": "72581b6f-0270-4d50-d58b-8a9286aa570a"
      },
      "source": [
        "# Now it's time to see how many good predictions has the model \n",
        "# To do that we will use a confusion matrix\n",
        "matrix = confusion_matrix(y_test, y_pred)\n",
        "print(matrix)"
      ],
      "execution_count": 23,
      "outputs": [
        {
          "output_type": "stream",
          "text": [
            "[[33  4]\n",
            " [ 0 77]]\n"
          ],
          "name": "stdout"
        }
      ]
    },
    {
      "cell_type": "markdown",
      "metadata": {
        "id": "1AVx4xO8svEH",
        "colab_type": "text"
      },
      "source": [
        "\n",
        "\n",
        "1.   33 values where predicted as malignant cancer and indeed the data tell us that they are cancer.\n",
        "2.   77 observations where predicted as benign and effectively the data is showed as benign\n",
        "3.   4 cases where observated as benign and in real they are malignant\n",
        "4.   0 cases diagnosticated as malignant and in real are benign.\n"
      ]
    },
    {
      "cell_type": "code",
      "metadata": {
        "id": "2abqmswO31jo",
        "colab_type": "code",
        "colab": {
          "base_uri": "https://localhost:8080/",
          "height": 34
        },
        "outputId": "b889d279-9231-448d-8742-9ac74f023abe"
      },
      "source": [
        "# the intercept of our model\n",
        "log.intercept_"
      ],
      "execution_count": 55,
      "outputs": [
        {
          "output_type": "execute_result",
          "data": {
            "text/plain": [
              "array([0.00652354])"
            ]
          },
          "metadata": {
            "tags": []
          },
          "execution_count": 55
        }
      ]
    },
    {
      "cell_type": "code",
      "metadata": {
        "id": "mIpkxCuG3zt0",
        "colab_type": "code",
        "colab": {
          "base_uri": "https://localhost:8080/",
          "height": 119
        },
        "outputId": "0b03a4df-f7b4-4347-acf1-fc91ae78dfee"
      },
      "source": [
        "# The coef of our model\n",
        "log.coef_"
      ],
      "execution_count": 54,
      "outputs": [
        {
          "output_type": "execute_result",
          "data": {
            "text/plain": [
              "array([[-0.31298084, -0.48109077, -0.32639824, -0.38086679, -0.31257755,\n",
              "         0.41326128, -1.02756373, -1.01200474,  0.23797808,  0.298702  ,\n",
              "        -1.19555254,  0.20383072, -0.85581427, -0.86757443, -0.22583281,\n",
              "         1.20896325, -0.03557877, -0.45911753,  0.3193126 ,  0.61196531,\n",
              "        -0.9795635 , -0.90350727, -0.92216016, -0.92579619, -0.65991489,\n",
              "         0.18123455, -0.91688204, -0.76679806, -0.8348285 , -0.48503981]])"
            ]
          },
          "metadata": {
            "tags": []
          },
          "execution_count": 54
        }
      ]
    },
    {
      "cell_type": "markdown",
      "metadata": {
        "id": "bjkoCABT5l7D",
        "colab_type": "text"
      },
      "source": [
        "$$y = \\frac{0.00652354}{(1+e^{-x})} $$\n",
        "\n",
        "Where x is the vector showed before"
      ]
    },
    {
      "cell_type": "code",
      "metadata": {
        "id": "K3kvGs-IrSz-",
        "colab_type": "code",
        "colab": {
          "base_uri": "https://localhost:8080/",
          "height": 34
        },
        "outputId": "bc0f35cc-60fd-4103-ac46-5db51dc88348"
      },
      "source": [
        "# Tests to the model\n",
        "precision = precision_score(y_test, y_pred)\n",
        "accuracy = accuracy_score(y_test, y_pred)\n",
        "recall = recall_score(y_test, y_pred)\n",
        "f1 = f1_score(y_test, y_pred)\n",
        "precision, accuracy, recall, f1"
      ],
      "execution_count": 29,
      "outputs": [
        {
          "output_type": "execute_result",
          "data": {
            "text/plain": [
              "(0.9506172839506173, 0.9649122807017544, 1.0, 0.9746835443037974)"
            ]
          },
          "metadata": {
            "tags": []
          },
          "execution_count": 29
        }
      ]
    },
    {
      "cell_type": "code",
      "metadata": {
        "id": "CRqzYpD2vIJ2",
        "colab_type": "code",
        "colab": {
          "base_uri": "https://localhost:8080/",
          "height": 34
        },
        "outputId": "4bb49d76-47b8-4953-958c-fad7fe8d7f93"
      },
      "source": [
        "# ROC curve\n",
        "roc_auc = roc_auc_score(y_test, y_pred)\n",
        "roc_auc"
      ],
      "execution_count": 31,
      "outputs": [
        {
          "output_type": "execute_result",
          "data": {
            "text/plain": [
              "0.9459459459459459"
            ]
          },
          "metadata": {
            "tags": []
          },
          "execution_count": 31
        }
      ]
    },
    {
      "cell_type": "markdown",
      "metadata": {
        "id": "HXaWPYyrwFBd",
        "colab_type": "text"
      },
      "source": [
        "Our model is pretty good :)\n"
      ]
    },
    {
      "cell_type": "code",
      "metadata": {
        "id": "c0i39Vtdwyu8",
        "colab_type": "code",
        "colab": {
          "base_uri": "https://localhost:8080/",
          "height": 34
        },
        "outputId": "237876e4-2acc-4115-8688-a3e03cd2d8f2"
      },
      "source": [
        "# Making a simple prediction when all x values are ones\n",
        "x_new = np.ones(30).reshape(1,-1)\n",
        "y_pred_new = log.predict(x_new)\n",
        "y_pred_new"
      ],
      "execution_count": 51,
      "outputs": [
        {
          "output_type": "execute_result",
          "data": {
            "text/plain": [
              "array([0])"
            ]
          },
          "metadata": {
            "tags": []
          },
          "execution_count": 51
        }
      ]
    },
    {
      "cell_type": "markdown",
      "metadata": {
        "id": "N3Y005vc1S6w",
        "colab_type": "text"
      },
      "source": [
        "Our prediction tell us that the when the tomour has that values(ones) is benign. Remind that if the predict values is >= 0.5 is consider 1 and if it is <0.5 is consider as 0."
      ]
    }
  ]
}
